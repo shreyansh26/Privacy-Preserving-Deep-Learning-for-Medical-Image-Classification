{
 "cells": [
  {
   "cell_type": "markdown",
   "metadata": {},
   "source": [
    "# Private Predictions with TFE Keras"
   ]
  },
  {
   "cell_type": "markdown",
   "metadata": {},
   "source": [
    "# Step 3: Private Prediction using TFE Keras - Serving (Client)\n",
    "\n",
    "After training your model with normal Keras and securing it with TFE Keras, you are ready to request some private predictions."
   ]
  },
  {
   "cell_type": "code",
   "execution_count": 1,
   "metadata": {},
   "outputs": [
    {
     "name": "stderr",
     "output_type": "stream",
     "text": [
      "/home/shreyansh/.local/lib/python3.6/site-packages/tensorflow/python/framework/dtypes.py:516: FutureWarning: Passing (type, 1) or '1type' as a synonym of type is deprecated; in a future version of numpy, it will be understood as (type, (1,)) / '(1,)type'.\n",
      "  _np_qint8 = np.dtype([(\"qint8\", np.int8, 1)])\n",
      "/home/shreyansh/.local/lib/python3.6/site-packages/tensorflow/python/framework/dtypes.py:517: FutureWarning: Passing (type, 1) or '1type' as a synonym of type is deprecated; in a future version of numpy, it will be understood as (type, (1,)) / '(1,)type'.\n",
      "  _np_quint8 = np.dtype([(\"quint8\", np.uint8, 1)])\n",
      "/home/shreyansh/.local/lib/python3.6/site-packages/tensorflow/python/framework/dtypes.py:518: FutureWarning: Passing (type, 1) or '1type' as a synonym of type is deprecated; in a future version of numpy, it will be understood as (type, (1,)) / '(1,)type'.\n",
      "  _np_qint16 = np.dtype([(\"qint16\", np.int16, 1)])\n",
      "/home/shreyansh/.local/lib/python3.6/site-packages/tensorflow/python/framework/dtypes.py:519: FutureWarning: Passing (type, 1) or '1type' as a synonym of type is deprecated; in a future version of numpy, it will be understood as (type, (1,)) / '(1,)type'.\n",
      "  _np_quint16 = np.dtype([(\"quint16\", np.uint16, 1)])\n",
      "/home/shreyansh/.local/lib/python3.6/site-packages/tensorflow/python/framework/dtypes.py:520: FutureWarning: Passing (type, 1) or '1type' as a synonym of type is deprecated; in a future version of numpy, it will be understood as (type, (1,)) / '(1,)type'.\n",
      "  _np_qint32 = np.dtype([(\"qint32\", np.int32, 1)])\n",
      "/home/shreyansh/.local/lib/python3.6/site-packages/tensorflow/python/framework/dtypes.py:525: FutureWarning: Passing (type, 1) or '1type' as a synonym of type is deprecated; in a future version of numpy, it will be understood as (type, (1,)) / '(1,)type'.\n",
      "  np_resource = np.dtype([(\"resource\", np.ubyte, 1)])\n",
      "/home/shreyansh/.local/lib/python3.6/site-packages/tensorboard/compat/tensorflow_stub/dtypes.py:541: FutureWarning: Passing (type, 1) or '1type' as a synonym of type is deprecated; in a future version of numpy, it will be understood as (type, (1,)) / '(1,)type'.\n",
      "  _np_qint8 = np.dtype([(\"qint8\", np.int8, 1)])\n",
      "/home/shreyansh/.local/lib/python3.6/site-packages/tensorboard/compat/tensorflow_stub/dtypes.py:542: FutureWarning: Passing (type, 1) or '1type' as a synonym of type is deprecated; in a future version of numpy, it will be understood as (type, (1,)) / '(1,)type'.\n",
      "  _np_quint8 = np.dtype([(\"quint8\", np.uint8, 1)])\n",
      "/home/shreyansh/.local/lib/python3.6/site-packages/tensorboard/compat/tensorflow_stub/dtypes.py:543: FutureWarning: Passing (type, 1) or '1type' as a synonym of type is deprecated; in a future version of numpy, it will be understood as (type, (1,)) / '(1,)type'.\n",
      "  _np_qint16 = np.dtype([(\"qint16\", np.int16, 1)])\n",
      "/home/shreyansh/.local/lib/python3.6/site-packages/tensorboard/compat/tensorflow_stub/dtypes.py:544: FutureWarning: Passing (type, 1) or '1type' as a synonym of type is deprecated; in a future version of numpy, it will be understood as (type, (1,)) / '(1,)type'.\n",
      "  _np_quint16 = np.dtype([(\"quint16\", np.uint16, 1)])\n",
      "/home/shreyansh/.local/lib/python3.6/site-packages/tensorboard/compat/tensorflow_stub/dtypes.py:545: FutureWarning: Passing (type, 1) or '1type' as a synonym of type is deprecated; in a future version of numpy, it will be understood as (type, (1,)) / '(1,)type'.\n",
      "  _np_qint32 = np.dtype([(\"qint32\", np.int32, 1)])\n",
      "/home/shreyansh/.local/lib/python3.6/site-packages/tensorboard/compat/tensorflow_stub/dtypes.py:550: FutureWarning: Passing (type, 1) or '1type' as a synonym of type is deprecated; in a future version of numpy, it will be understood as (type, (1,)) / '(1,)type'.\n",
      "  np_resource = np.dtype([(\"resource\", np.ubyte, 1)])\n",
      "WARNING:tf_encrypted:Falling back to insecure randomness since the required custom op could not be found for the installed version of TensorFlow. Fix this by compiling custom ops. Missing file was '/usr/local/lib/python3.6/dist-packages/tf_encrypted/operations/secure_random/secure_random_module_tf_1.14.0.so'\n"
     ]
    },
    {
     "name": "stdout",
     "output_type": "stream",
     "text": [
      "WARNING:tensorflow:From /usr/local/lib/python3.6/dist-packages/tf_encrypted/session.py:26: The name tf.Session is deprecated. Please use tf.compat.v1.Session instead.\n",
      "\n"
     ]
    },
    {
     "name": "stderr",
     "output_type": "stream",
     "text": [
      "WARNING:tensorflow:From /usr/local/lib/python3.6/dist-packages/tf_encrypted/session.py:26: The name tf.Session is deprecated. Please use tf.compat.v1.Session instead.\n",
      "\n"
     ]
    }
   ],
   "source": [
    "import numpy as np\n",
    "import tensorflow as tf\n",
    "import tf_encrypted as tfe\n",
    "\n",
    "from tensorflow.keras.datasets import mnist"
   ]
  },
  {
   "cell_type": "markdown",
   "metadata": {},
   "source": [
    "## Data\n",
    "\n",
    "Here, we preprocess our MNIST data. This is identical to how we preprocessed during training."
   ]
  },
  {
   "cell_type": "code",
   "execution_count": 2,
   "metadata": {
    "collapsed": true
   },
   "outputs": [],
   "source": [
    "import pickle\n",
    "file = open('../normal_test.pkl', 'rb')\n",
    "# dump information to that file\n",
    "test_normal = pickle.load(file)\n",
    "# close the file\n",
    "file.close()\n",
    "\n",
    "file = open('../pneumonia_test.pkl', 'rb')\n",
    "# dump information to that file\n",
    "test_pneumonia = pickle.load(file)\n",
    "# close the file\n",
    "file.close()"
   ]
  },
  {
   "cell_type": "code",
   "execution_count": 3,
   "metadata": {},
   "outputs": [
    {
     "data": {
      "text/plain": [
       "(624, 150, 125)"
      ]
     },
     "execution_count": 3,
     "metadata": {},
     "output_type": "execute_result"
    }
   ],
   "source": [
    "y_normal_t = np.zeros((234,), dtype=int)\n",
    "y_pneumonia_t = np.ones((390,), dtype=int)\n",
    "\n",
    "x_test = np.concatenate((test_normal, test_pneumonia))\n",
    "y_test = np.concatenate((y_normal_t, y_pneumonia_t))\n",
    "from sklearn.utils import shuffle\n",
    "x_test, y_test = shuffle(x_test, y_test, random_state=0)\n",
    "x_test.shape"
   ]
  },
  {
   "cell_type": "code",
   "execution_count": 4,
   "metadata": {
    "collapsed": true
   },
   "outputs": [],
   "source": [
    "rows = x_test.shape[0]\n",
    "rows_req = (rows//50)*50\n",
    "x_test = x_test[:rows_req,:,:]\n",
    "y_test = y_test[:rows_req]"
   ]
  },
  {
   "cell_type": "code",
   "execution_count": 5,
   "metadata": {
    "collapsed": true
   },
   "outputs": [],
   "source": [
    "# input image dimensions\n",
    "img_rows, img_cols = 150, 125\n",
    "\n",
    "x_test = x_test.reshape(x_test.shape[0], img_rows, img_cols, 1)\n",
    "input_shape = (img_rows, img_cols, 1)\n",
    "\n",
    "x_test = x_test.astype('float32')\n",
    "x_test /= 255"
   ]
  },
  {
   "cell_type": "code",
   "execution_count": 6,
   "metadata": {},
   "outputs": [
    {
     "data": {
      "text/plain": [
       "array([[[[0.7647059 ],\n",
       "         [0.7647059 ],\n",
       "         [0.73333335],\n",
       "         ...,\n",
       "         [0.26666668],\n",
       "         [0.28627452],\n",
       "         [0.26666668]],\n",
       "\n",
       "        [[0.7764706 ],\n",
       "         [0.7490196 ],\n",
       "         [0.7176471 ],\n",
       "         ...,\n",
       "         [0.28235295],\n",
       "         [0.28627452],\n",
       "         [0.28627452]],\n",
       "\n",
       "        [[0.7882353 ],\n",
       "         [0.74509805],\n",
       "         [0.70980394],\n",
       "         ...,\n",
       "         [0.25882354],\n",
       "         [0.32156864],\n",
       "         [0.25882354]],\n",
       "\n",
       "        ...,\n",
       "\n",
       "        [[0.0627451 ],\n",
       "         [0.05490196],\n",
       "         [0.04705882],\n",
       "         ...,\n",
       "         [0.06666667],\n",
       "         [0.06666667],\n",
       "         [0.06666667]],\n",
       "\n",
       "        [[0.0627451 ],\n",
       "         [0.05490196],\n",
       "         [0.04705882],\n",
       "         ...,\n",
       "         [0.0627451 ],\n",
       "         [0.06666667],\n",
       "         [0.06666667]],\n",
       "\n",
       "        [[0.0627451 ],\n",
       "         [0.05490196],\n",
       "         [0.04705882],\n",
       "         ...,\n",
       "         [0.0627451 ],\n",
       "         [0.06666667],\n",
       "         [0.06666667]]],\n",
       "\n",
       "\n",
       "       [[[0.14117648],\n",
       "         [0.14901961],\n",
       "         [0.15294118],\n",
       "         ...,\n",
       "         [0.18431373],\n",
       "         [0.15686275],\n",
       "         [0.04313726]],\n",
       "\n",
       "        [[0.14117648],\n",
       "         [0.14901961],\n",
       "         [0.16470589],\n",
       "         ...,\n",
       "         [0.18039216],\n",
       "         [0.12941177],\n",
       "         [0.12156863]],\n",
       "\n",
       "        [[0.14509805],\n",
       "         [0.15294118],\n",
       "         [0.15686275],\n",
       "         ...,\n",
       "         [0.16470589],\n",
       "         [0.15686275],\n",
       "         [0.16470589]],\n",
       "\n",
       "        ...,\n",
       "\n",
       "        [[0.10196079],\n",
       "         [0.09803922],\n",
       "         [0.09803922],\n",
       "         ...,\n",
       "         [0.10588235],\n",
       "         [0.10588235],\n",
       "         [0.10980392]],\n",
       "\n",
       "        [[0.09803922],\n",
       "         [0.09803922],\n",
       "         [0.09803922],\n",
       "         ...,\n",
       "         [0.10196079],\n",
       "         [0.10196079],\n",
       "         [0.10588235]],\n",
       "\n",
       "        [[0.09803922],\n",
       "         [0.09803922],\n",
       "         [0.09803922],\n",
       "         ...,\n",
       "         [0.10196079],\n",
       "         [0.10196079],\n",
       "         [0.10588235]]],\n",
       "\n",
       "\n",
       "       [[[0.09411765],\n",
       "         [0.10196079],\n",
       "         [0.08235294],\n",
       "         ...,\n",
       "         [0.76862746],\n",
       "         [0.79607844],\n",
       "         [0.8156863 ]],\n",
       "\n",
       "        [[0.08627451],\n",
       "         [0.08627451],\n",
       "         [0.07450981],\n",
       "         ...,\n",
       "         [0.7411765 ],\n",
       "         [0.78431374],\n",
       "         [0.80784315]],\n",
       "\n",
       "        [[0.08235294],\n",
       "         [0.07450981],\n",
       "         [0.07058824],\n",
       "         ...,\n",
       "         [0.68235296],\n",
       "         [0.76862746],\n",
       "         [0.81960785]],\n",
       "\n",
       "        ...,\n",
       "\n",
       "        [[0.09411765],\n",
       "         [0.09803922],\n",
       "         [0.09803922],\n",
       "         ...,\n",
       "         [0.09019608],\n",
       "         [0.09019608],\n",
       "         [0.09019608]],\n",
       "\n",
       "        [[0.09803922],\n",
       "         [0.09411765],\n",
       "         [0.09803922],\n",
       "         ...,\n",
       "         [0.08627451],\n",
       "         [0.09019608],\n",
       "         [0.09019608]],\n",
       "\n",
       "        [[0.09803922],\n",
       "         [0.09411765],\n",
       "         [0.09803922],\n",
       "         ...,\n",
       "         [0.08627451],\n",
       "         [0.09019608],\n",
       "         [0.09019608]]],\n",
       "\n",
       "\n",
       "       ...,\n",
       "\n",
       "\n",
       "       [[[0.6745098 ],\n",
       "         [0.42745098],\n",
       "         [0.14509805],\n",
       "         ...,\n",
       "         [0.81960785],\n",
       "         [0.8392157 ],\n",
       "         [0.85490197]],\n",
       "\n",
       "        [[0.6313726 ],\n",
       "         [0.20784314],\n",
       "         [0.1764706 ],\n",
       "         ...,\n",
       "         [0.83137256],\n",
       "         [0.827451  ],\n",
       "         [0.8745098 ]],\n",
       "\n",
       "        [[0.5411765 ],\n",
       "         [0.19607843],\n",
       "         [0.12941177],\n",
       "         ...,\n",
       "         [0.8156863 ],\n",
       "         [0.83137256],\n",
       "         [0.8392157 ]],\n",
       "\n",
       "        ...,\n",
       "\n",
       "        [[0.10196079],\n",
       "         [0.10196079],\n",
       "         [0.10196079],\n",
       "         ...,\n",
       "         [0.07450981],\n",
       "         [0.07843138],\n",
       "         [0.07843138]],\n",
       "\n",
       "        [[0.10196079],\n",
       "         [0.10196079],\n",
       "         [0.10196079],\n",
       "         ...,\n",
       "         [0.07450981],\n",
       "         [0.07450981],\n",
       "         [0.07450981]],\n",
       "\n",
       "        [[0.10196079],\n",
       "         [0.10196079],\n",
       "         [0.10196079],\n",
       "         ...,\n",
       "         [0.07450981],\n",
       "         [0.07450981],\n",
       "         [0.07450981]]],\n",
       "\n",
       "\n",
       "       [[[0.78431374],\n",
       "         [0.7607843 ],\n",
       "         [0.5764706 ],\n",
       "         ...,\n",
       "         [0.7254902 ],\n",
       "         [0.78431374],\n",
       "         [0.6627451 ]],\n",
       "\n",
       "        [[0.8235294 ],\n",
       "         [0.80784315],\n",
       "         [0.54901963],\n",
       "         ...,\n",
       "         [0.4509804 ],\n",
       "         [0.60784316],\n",
       "         [0.54509807]],\n",
       "\n",
       "        [[0.8117647 ],\n",
       "         [0.8117647 ],\n",
       "         [0.5686275 ],\n",
       "         ...,\n",
       "         [0.3647059 ],\n",
       "         [0.58431375],\n",
       "         [0.60784316]],\n",
       "\n",
       "        ...,\n",
       "\n",
       "        [[0.04313726],\n",
       "         [0.07450981],\n",
       "         [0.07450981],\n",
       "         ...,\n",
       "         [0.0627451 ],\n",
       "         [0.06666667],\n",
       "         [0.05882353]],\n",
       "\n",
       "        [[0.07450981],\n",
       "         [0.07450981],\n",
       "         [0.07058824],\n",
       "         ...,\n",
       "         [0.0627451 ],\n",
       "         [0.06666667],\n",
       "         [0.07450981]],\n",
       "\n",
       "        [[0.07450981],\n",
       "         [0.07450981],\n",
       "         [0.07058824],\n",
       "         ...,\n",
       "         [0.0627451 ],\n",
       "         [0.06666667],\n",
       "         [0.07450981]]],\n",
       "\n",
       "\n",
       "       [[[0.22745098],\n",
       "         [0.23529412],\n",
       "         [0.24705882],\n",
       "         ...,\n",
       "         [0.22352941],\n",
       "         [0.21960784],\n",
       "         [0.21176471]],\n",
       "\n",
       "        [[0.22745098],\n",
       "         [0.23529412],\n",
       "         [0.23921569],\n",
       "         ...,\n",
       "         [0.23921569],\n",
       "         [0.23137255],\n",
       "         [0.21960784]],\n",
       "\n",
       "        [[0.21960784],\n",
       "         [0.23529412],\n",
       "         [0.24313726],\n",
       "         ...,\n",
       "         [0.23921569],\n",
       "         [0.23137255],\n",
       "         [0.22745098]],\n",
       "\n",
       "        ...,\n",
       "\n",
       "        [[0.09803922],\n",
       "         [0.10588235],\n",
       "         [0.10196079],\n",
       "         ...,\n",
       "         [0.09019608],\n",
       "         [0.09411765],\n",
       "         [0.09411765]],\n",
       "\n",
       "        [[0.10588235],\n",
       "         [0.10588235],\n",
       "         [0.10196079],\n",
       "         ...,\n",
       "         [0.09019608],\n",
       "         [0.09411765],\n",
       "         [0.09411765]],\n",
       "\n",
       "        [[0.10588235],\n",
       "         [0.10588235],\n",
       "         [0.10196079],\n",
       "         ...,\n",
       "         [0.09019608],\n",
       "         [0.09411765],\n",
       "         [0.09411765]]]], dtype=float32)"
      ]
     },
     "execution_count": 6,
     "metadata": {},
     "output_type": "execute_result"
    }
   ],
   "source": [
    "x_test"
   ]
  },
  {
   "cell_type": "markdown",
   "metadata": {},
   "source": [
    "## Set up `tfe.serving.QueueClient`\n",
    "\n",
    "\n",
    "Before querying the model, we just have to connect to it. To do so, we can create a client with `tfe.serving.QueueClient`. This creates a TFE queueing server on the client side that connects to the queueing server set up by `tfe.serving.QueueServer` in **Secure Model Serving**. The queue will be responsible for secretly sharing the plaintext data before submitting the shares in a prediction request.\n",
    "\n",
    "Note that we have to use the same configuration as used by the server, including player configuration and protocol."
   ]
  },
  {
   "cell_type": "code",
   "execution_count": 7,
   "metadata": {
    "collapsed": true
   },
   "outputs": [],
   "source": [
    "config = tfe.RemoteConfig.load(\"/tmp/tfe.config\")\n",
    "\n",
    "tfe.set_config(config)\n",
    "tfe.set_protocol(tfe.protocol.SecureNN())"
   ]
  },
  {
   "cell_type": "code",
   "execution_count": 8,
   "metadata": {
    "collapsed": true
   },
   "outputs": [],
   "source": [
    "input_shape = (1, 150, 125, 1)\n",
    "output_shape = (1, 2)"
   ]
  },
  {
   "cell_type": "code",
   "execution_count": 9,
   "metadata": {},
   "outputs": [
    {
     "name": "stdout",
     "output_type": "stream",
     "text": [
      "WARNING:tensorflow:From /usr/local/lib/python3.6/dist-packages/tf_encrypted/tensor/native.py:403: The name tf.placeholder is deprecated. Please use tf.compat.v1.placeholder instead.\n",
      "\n"
     ]
    },
    {
     "name": "stderr",
     "output_type": "stream",
     "text": [
      "WARNING:tensorflow:From /usr/local/lib/python3.6/dist-packages/tf_encrypted/tensor/native.py:403: The name tf.placeholder is deprecated. Please use tf.compat.v1.placeholder instead.\n",
      "\n"
     ]
    }
   ],
   "source": [
    "client = tfe.serving.QueueClient(\n",
    "    input_shape=input_shape,\n",
    "    output_shape=output_shape)"
   ]
  },
  {
   "cell_type": "code",
   "execution_count": 10,
   "metadata": {},
   "outputs": [
    {
     "name": "stdout",
     "output_type": "stream",
     "text": [
      "WARNING:tensorflow:From /usr/local/lib/python3.6/dist-packages/tf_encrypted/config.py:300: The name tf.ConfigProto is deprecated. Please use tf.compat.v1.ConfigProto instead.\n",
      "\n"
     ]
    },
    {
     "name": "stderr",
     "output_type": "stream",
     "text": [
      "WARNING:tensorflow:From /usr/local/lib/python3.6/dist-packages/tf_encrypted/config.py:300: The name tf.ConfigProto is deprecated. Please use tf.compat.v1.ConfigProto instead.\n",
      "\n"
     ]
    },
    {
     "name": "stdout",
     "output_type": "stream",
     "text": [
      "WARNING:tensorflow:From /usr/local/lib/python3.6/dist-packages/tf_encrypted/config.py:87: The name tf.GraphOptions is deprecated. Please use tf.compat.v1.GraphOptions instead.\n",
      "\n"
     ]
    },
    {
     "name": "stderr",
     "output_type": "stream",
     "text": [
      "WARNING:tensorflow:From /usr/local/lib/python3.6/dist-packages/tf_encrypted/config.py:87: The name tf.GraphOptions is deprecated. Please use tf.compat.v1.GraphOptions instead.\n",
      "\n",
      "INFO:tf_encrypted:Starting session on target 'grpc://localhost:4000' using config graph_options {\n",
      "}\n",
      "\n"
     ]
    }
   ],
   "source": [
    "sess = tfe.Session(config=config)"
   ]
  },
  {
   "cell_type": "markdown",
   "metadata": {},
   "source": [
    "## Query Model\n",
    "\n",
    "You are ready to get some private predictions! Calling `client.run` will insert the image into the queue created above, secret share the data locally, and submit the shares to the model server in **Secure Model Serving**."
   ]
  },
  {
   "cell_type": "code",
   "execution_count": 11,
   "metadata": {
    "collapsed": true
   },
   "outputs": [],
   "source": [
    "# User inputs\n",
    "num_tests = 25\n",
    "images, expected_labels = x_test[100:num_tests+100], y_test[100:num_tests+100]"
   ]
  },
  {
   "cell_type": "code",
   "execution_count": 12,
   "metadata": {
    "scrolled": true
   },
   "outputs": [
    {
     "name": "stdout",
     "output_type": "stream",
     "text": [
      "The image had label 1 and was correctly classified as 1\n",
      "The image had label 1 and was correctly classified as 1\n",
      "The image had label 0 and was incorrectly classified as 1\n",
      "The image had label 0 and was incorrectly classified as 1\n",
      "The image had label 1 and was correctly classified as 1\n",
      "The image had label 0 and was incorrectly classified as 1\n",
      "The image had label 1 and was correctly classified as 1\n",
      "The image had label 0 and was incorrectly classified as 1\n",
      "The image had label 0 and was incorrectly classified as 1\n",
      "The image had label 1 and was correctly classified as 1\n",
      "The image had label 1 and was correctly classified as 1\n",
      "The image had label 0 and was incorrectly classified as 1\n",
      "The image had label 1 and was correctly classified as 1\n",
      "The image had label 0 and was incorrectly classified as 1\n",
      "The image had label 1 and was correctly classified as 1\n",
      "The image had label 0 and was incorrectly classified as 1\n",
      "The image had label 1 and was correctly classified as 1\n",
      "The image had label 1 and was correctly classified as 1\n",
      "The image had label 0 and was incorrectly classified as 1\n",
      "The image had label 0 and was incorrectly classified as 1\n",
      "The image had label 1 and was correctly classified as 1\n",
      "The image had label 1 and was correctly classified as 1\n",
      "The image had label 1 and was correctly classified as 1\n",
      "The image had label 0 and was incorrectly classified as 1\n",
      "The image had label 0 and was incorrectly classified as 1\n"
     ]
    }
   ],
   "source": [
    "for image, expected_label in zip(images, expected_labels):\n",
    "    \n",
    "    res = client.run(\n",
    "        sess,\n",
    "        image.reshape(1, 150, 125, 1))\n",
    "    \n",
    "    predicted_label = np.argmax(res)\n",
    "    \n",
    "    print(\"The image had label {} and was {} classified as {}\".format(\n",
    "        expected_label,\n",
    "        \"correctly\" if expected_label == predicted_label else \"incorrectly\",\n",
    "        predicted_label))"
   ]
  },
  {
   "cell_type": "markdown",
   "metadata": {},
   "source": [
    "We are able to classify these three images correctly! But what's special about these predictions is that we haven't revealed any private information to get this service. The model host never saw your input data or your predictions, and you never downloaded the model. You were able to get private predictions on encrypted data with an encrypted model!"
   ]
  },
  {
   "cell_type": "code",
   "execution_count": null,
   "metadata": {
    "collapsed": true
   },
   "outputs": [],
   "source": []
  }
 ],
 "metadata": {
  "kernelspec": {
   "display_name": "Python 3",
   "language": "python",
   "name": "python3"
  },
  "language_info": {
   "codemirror_mode": {
    "name": "ipython",
    "version": 3
   },
   "file_extension": ".py",
   "mimetype": "text/x-python",
   "name": "python",
   "nbconvert_exporter": "python",
   "pygments_lexer": "ipython3",
   "version": "3.6.8"
  }
 },
 "nbformat": 4,
 "nbformat_minor": 2
}
