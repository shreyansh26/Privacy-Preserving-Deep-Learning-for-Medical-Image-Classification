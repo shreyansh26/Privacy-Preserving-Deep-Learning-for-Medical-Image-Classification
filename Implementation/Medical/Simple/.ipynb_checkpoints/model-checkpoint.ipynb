{
 "cells": [
  {
   "cell_type": "code",
   "execution_count": 0,
   "metadata": {
    "colab": {},
    "colab_type": "code",
    "collapsed": true,
    "id": "1HtY-3y9tUzY"
   },
   "outputs": [],
   "source": [
    "from __future__ import print_function\n",
    "import tensorflow as tf\n",
    "\n",
    "import pickle\n",
    "import numpy as np"
   ]
  },
  {
   "cell_type": "code",
   "execution_count": 2,
   "metadata": {
    "colab": {
     "base_uri": "https://localhost:8080/",
     "height": 124
    },
    "colab_type": "code",
    "executionInfo": {
     "elapsed": 25709,
     "status": "ok",
     "timestamp": 1570702169313,
     "user": {
      "displayName": "SHREYANSH SINGH",
      "photoUrl": "https://lh3.googleusercontent.com/a-/AAuE7mBnbm24g7A_NVsEzEaLktAvhEbQJUpVaee9WZEV=s64",
      "userId": "13637235420111287831"
     },
     "user_tz": -330
    },
    "id": "7a8W94CUtjb3",
    "outputId": "979fc01c-8694-4567-fe7c-43b5b5ee5f5d"
   },
   "outputs": [
    {
     "name": "stdout",
     "output_type": "stream",
     "text": [
      "Go to this URL in a browser: https://accounts.google.com/o/oauth2/auth?client_id=947318989803-6bn6qk8qdgf4n4g3pfee6491hc0brc4i.apps.googleusercontent.com&redirect_uri=urn%3Aietf%3Awg%3Aoauth%3A2.0%3Aoob&scope=email%20https%3A%2F%2Fwww.googleapis.com%2Fauth%2Fdocs.test%20https%3A%2F%2Fwww.googleapis.com%2Fauth%2Fdrive%20https%3A%2F%2Fwww.googleapis.com%2Fauth%2Fdrive.photos.readonly%20https%3A%2F%2Fwww.googleapis.com%2Fauth%2Fpeopleapi.readonly&response_type=code\n",
      "\n",
      "Enter your authorization code:\n",
      "··········\n",
      "Mounted at /content/drive\n"
     ]
    }
   ],
   "source": [
    "from google.colab import drive\n",
    "drive.mount('/content/drive')"
   ]
  },
  {
   "cell_type": "code",
   "execution_count": 0,
   "metadata": {
    "colab": {},
    "colab_type": "code",
    "collapsed": true,
    "id": "1yc3C-PjtmW9"
   },
   "outputs": [],
   "source": [
    "import os\n",
    "DATASET_PATH = '/content/drive/My Drive/BTP/'\n",
    "TRAIN_PATH_NORMAL = os.path.join(DATASET_PATH, 'normal_train.pkl')\n",
    "TRAIN_PATH_PNEUMONIA = os.path.join(DATASET_PATH, 'pneumonia_train.pkl')\n",
    "VALIDATION_PATH_NORMAL = os.path.join(DATASET_PATH, 'normal_val.pkl')\n",
    "VALIDATION_PATH_PNEUMONIA = os.path.join(DATASET_PATH, 'pneumonia_val.pkl')\n",
    "TEST_PATH_NORMAL = os.path.join(DATASET_PATH, 'normal_test.pkl')\n",
    "TEST_PATH_PNEUMONIA = os.path.join(DATASET_PATH, 'pneumonia_test.pkl')"
   ]
  },
  {
   "cell_type": "code",
   "execution_count": 0,
   "metadata": {
    "colab": {},
    "colab_type": "code",
    "collapsed": true,
    "id": "wd7bvqc5uMRq"
   },
   "outputs": [],
   "source": [
    "file = open(TRAIN_PATH_NORMAL, 'rb')\n",
    "# dump information to that file\n",
    "train_normal = pickle.load(file)\n",
    "# close the file\n",
    "file.close()"
   ]
  },
  {
   "cell_type": "code",
   "execution_count": 0,
   "metadata": {
    "colab": {},
    "colab_type": "code",
    "collapsed": true,
    "id": "m2M65Kg8uq5T"
   },
   "outputs": [],
   "source": [
    "file = open(TRAIN_PATH_PNEUMONIA, 'rb')\n",
    "# dump information to that file\n",
    "train_pneumonia = pickle.load(file)\n",
    "# close the file\n",
    "file.close()"
   ]
  },
  {
   "cell_type": "code",
   "execution_count": 0,
   "metadata": {
    "colab": {},
    "colab_type": "code",
    "collapsed": true,
    "id": "gYnc3wZGux5U"
   },
   "outputs": [],
   "source": [
    "file = open(VALIDATION_PATH_NORMAL, 'rb')\n",
    "# dump information to that file\n",
    "val_normal = pickle.load(file)\n",
    "# close the file\n",
    "file.close()"
   ]
  },
  {
   "cell_type": "code",
   "execution_count": 0,
   "metadata": {
    "colab": {},
    "colab_type": "code",
    "collapsed": true,
    "id": "KZp1A3eVu3ad"
   },
   "outputs": [],
   "source": [
    "file = open(VALIDATION_PATH_PNEUMONIA, 'rb')\n",
    "# dump information to that file\n",
    "val_pneumonia = pickle.load(file)\n",
    "# close the file\n",
    "file.close()"
   ]
  },
  {
   "cell_type": "code",
   "execution_count": 0,
   "metadata": {
    "colab": {},
    "colab_type": "code",
    "collapsed": true,
    "id": "dMApus9_u7NO"
   },
   "outputs": [],
   "source": [
    "file = open(TEST_PATH_NORMAL, 'rb')\n",
    "# dump information to that file\n",
    "test_normal = pickle.load(file)\n",
    "# close the file\n",
    "file.close()"
   ]
  },
  {
   "cell_type": "code",
   "execution_count": 0,
   "metadata": {
    "colab": {},
    "colab_type": "code",
    "collapsed": true,
    "id": "Za7y3NBWu-m8"
   },
   "outputs": [],
   "source": [
    "file = open(TEST_PATH_PNEUMONIA, 'rb')\n",
    "# dump information to that file\n",
    "test_pneumonia = pickle.load(file)\n",
    "# close the file\n",
    "file.close()"
   ]
  },
  {
   "cell_type": "code",
   "execution_count": 10,
   "metadata": {
    "colab": {
     "base_uri": "https://localhost:8080/",
     "height": 34
    },
    "colab_type": "code",
    "executionInfo": {
     "elapsed": 1229,
     "status": "ok",
     "timestamp": 1570702177009,
     "user": {
      "displayName": "SHREYANSH SINGH",
      "photoUrl": "https://lh3.googleusercontent.com/a-/AAuE7mBnbm24g7A_NVsEzEaLktAvhEbQJUpVaee9WZEV=s64",
      "userId": "13637235420111287831"
     },
     "user_tz": -330
    },
    "id": "x_w0OzmVvB1X",
    "outputId": "d4f432b6-9593-4cb0-fa2a-5b6700d683b4"
   },
   "outputs": [
    {
     "data": {
      "text/plain": [
       "(3882, 150, 125)"
      ]
     },
     "execution_count": 10,
     "metadata": {
      "tags": []
     },
     "output_type": "execute_result"
    }
   ],
   "source": [
    "train_pneumonia.shape"
   ]
  },
  {
   "cell_type": "code",
   "execution_count": 11,
   "metadata": {
    "colab": {
     "base_uri": "https://localhost:8080/",
     "height": 34
    },
    "colab_type": "code",
    "executionInfo": {
     "elapsed": 865,
     "status": "ok",
     "timestamp": 1570702187471,
     "user": {
      "displayName": "SHREYANSH SINGH",
      "photoUrl": "https://lh3.googleusercontent.com/a-/AAuE7mBnbm24g7A_NVsEzEaLktAvhEbQJUpVaee9WZEV=s64",
      "userId": "13637235420111287831"
     },
     "user_tz": -330
    },
    "id": "9CcsX5Ywvtls",
    "outputId": "2630434f-460e-4072-b41e-0b11df031fbd"
   },
   "outputs": [
    {
     "data": {
      "text/plain": [
       "(1341, 150, 125)"
      ]
     },
     "execution_count": 11,
     "metadata": {
      "tags": []
     },
     "output_type": "execute_result"
    }
   ],
   "source": [
    "train_normal.shape"
   ]
  },
  {
   "cell_type": "code",
   "execution_count": 0,
   "metadata": {
    "colab": {},
    "colab_type": "code",
    "collapsed": true,
    "id": "VrNLjILmvHmO"
   },
   "outputs": [],
   "source": [
    "y_normal = np.zeros((1341,), dtype=int)\n",
    "y_pneumonia = np.ones((3882,), dtype=int)"
   ]
  },
  {
   "cell_type": "code",
   "execution_count": 0,
   "metadata": {
    "colab": {},
    "colab_type": "code",
    "collapsed": true,
    "id": "71QK_r6Fv7Ba"
   },
   "outputs": [],
   "source": [
    "x_train = np.concatenate((train_normal, train_pneumonia))\n",
    "y_train = np.concatenate((y_normal, y_pneumonia))"
   ]
  },
  {
   "cell_type": "code",
   "execution_count": 14,
   "metadata": {
    "colab": {
     "base_uri": "https://localhost:8080/",
     "height": 34
    },
    "colab_type": "code",
    "executionInfo": {
     "elapsed": 906,
     "status": "ok",
     "timestamp": 1570702192954,
     "user": {
      "displayName": "SHREYANSH SINGH",
      "photoUrl": "https://lh3.googleusercontent.com/a-/AAuE7mBnbm24g7A_NVsEzEaLktAvhEbQJUpVaee9WZEV=s64",
      "userId": "13637235420111287831"
     },
     "user_tz": -330
    },
    "id": "i_EhTgehv9Eb",
    "outputId": "71dbbc7a-3b8a-492f-94f1-6d522fdd4af8"
   },
   "outputs": [
    {
     "data": {
      "text/plain": [
       "(5223, 150, 125)"
      ]
     },
     "execution_count": 14,
     "metadata": {
      "tags": []
     },
     "output_type": "execute_result"
    }
   ],
   "source": [
    "x_train.shape"
   ]
  },
  {
   "cell_type": "code",
   "execution_count": 15,
   "metadata": {
    "colab": {
     "base_uri": "https://localhost:8080/",
     "height": 34
    },
    "colab_type": "code",
    "executionInfo": {
     "elapsed": 912,
     "status": "ok",
     "timestamp": 1570702194396,
     "user": {
      "displayName": "SHREYANSH SINGH",
      "photoUrl": "https://lh3.googleusercontent.com/a-/AAuE7mBnbm24g7A_NVsEzEaLktAvhEbQJUpVaee9WZEV=s64",
      "userId": "13637235420111287831"
     },
     "user_tz": -330
    },
    "id": "qaChQ_RXwYyb",
    "outputId": "a3403584-ae29-465a-9df8-c0f319550475"
   },
   "outputs": [
    {
     "data": {
      "text/plain": [
       "(5223,)"
      ]
     },
     "execution_count": 15,
     "metadata": {
      "tags": []
     },
     "output_type": "execute_result"
    }
   ],
   "source": [
    "y_train.shape"
   ]
  },
  {
   "cell_type": "code",
   "execution_count": 16,
   "metadata": {
    "colab": {
     "base_uri": "https://localhost:8080/",
     "height": 34
    },
    "colab_type": "code",
    "executionInfo": {
     "elapsed": 730,
     "status": "ok",
     "timestamp": 1570702195677,
     "user": {
      "displayName": "SHREYANSH SINGH",
      "photoUrl": "https://lh3.googleusercontent.com/a-/AAuE7mBnbm24g7A_NVsEzEaLktAvhEbQJUpVaee9WZEV=s64",
      "userId": "13637235420111287831"
     },
     "user_tz": -330
    },
    "id": "bRPt4FVvwbAn",
    "outputId": "b4703c09-6b13-4b0e-9b7e-9b7146724fc3"
   },
   "outputs": [
    {
     "data": {
      "text/plain": [
       "(234, 150, 125)"
      ]
     },
     "execution_count": 16,
     "metadata": {
      "tags": []
     },
     "output_type": "execute_result"
    }
   ],
   "source": [
    "test_normal.shape"
   ]
  },
  {
   "cell_type": "code",
   "execution_count": 17,
   "metadata": {
    "colab": {
     "base_uri": "https://localhost:8080/",
     "height": 34
    },
    "colab_type": "code",
    "executionInfo": {
     "elapsed": 750,
     "status": "ok",
     "timestamp": 1570702197014,
     "user": {
      "displayName": "SHREYANSH SINGH",
      "photoUrl": "https://lh3.googleusercontent.com/a-/AAuE7mBnbm24g7A_NVsEzEaLktAvhEbQJUpVaee9WZEV=s64",
      "userId": "13637235420111287831"
     },
     "user_tz": -330
    },
    "id": "ReV8LI1HwiiM",
    "outputId": "0e0709a9-d627-41b8-f5cd-ff2eee832340"
   },
   "outputs": [
    {
     "data": {
      "text/plain": [
       "(390, 150, 125)"
      ]
     },
     "execution_count": 17,
     "metadata": {
      "tags": []
     },
     "output_type": "execute_result"
    }
   ],
   "source": [
    "test_pneumonia.shape"
   ]
  },
  {
   "cell_type": "code",
   "execution_count": 0,
   "metadata": {
    "colab": {},
    "colab_type": "code",
    "collapsed": true,
    "id": "PSXZyWVmwj-h"
   },
   "outputs": [],
   "source": [
    "y_normal_t = np.zeros((234,), dtype=int)\n",
    "y_pneumonia_t = np.ones((390,), dtype=int)"
   ]
  },
  {
   "cell_type": "code",
   "execution_count": 0,
   "metadata": {
    "colab": {},
    "colab_type": "code",
    "collapsed": true,
    "id": "pQL8stVwwqFP"
   },
   "outputs": [],
   "source": [
    "x_test = np.concatenate((test_normal, test_pneumonia))\n",
    "y_test = np.concatenate((y_normal_t, y_pneumonia_t))"
   ]
  },
  {
   "cell_type": "code",
   "execution_count": 20,
   "metadata": {
    "colab": {
     "base_uri": "https://localhost:8080/",
     "height": 34
    },
    "colab_type": "code",
    "executionInfo": {
     "elapsed": 689,
     "status": "ok",
     "timestamp": 1570702201657,
     "user": {
      "displayName": "SHREYANSH SINGH",
      "photoUrl": "https://lh3.googleusercontent.com/a-/AAuE7mBnbm24g7A_NVsEzEaLktAvhEbQJUpVaee9WZEV=s64",
      "userId": "13637235420111287831"
     },
     "user_tz": -330
    },
    "id": "rCk7gkrAwv3h",
    "outputId": "6d68a005-59ad-4654-ef48-ce5365656694"
   },
   "outputs": [
    {
     "data": {
      "text/plain": [
       "(624, 150, 125)"
      ]
     },
     "execution_count": 20,
     "metadata": {
      "tags": []
     },
     "output_type": "execute_result"
    }
   ],
   "source": [
    "x_test.shape"
   ]
  },
  {
   "cell_type": "code",
   "execution_count": 21,
   "metadata": {
    "colab": {
     "base_uri": "https://localhost:8080/",
     "height": 34
    },
    "colab_type": "code",
    "executionInfo": {
     "elapsed": 1268,
     "status": "ok",
     "timestamp": 1570702203715,
     "user": {
      "displayName": "SHREYANSH SINGH",
      "photoUrl": "https://lh3.googleusercontent.com/a-/AAuE7mBnbm24g7A_NVsEzEaLktAvhEbQJUpVaee9WZEV=s64",
      "userId": "13637235420111287831"
     },
     "user_tz": -330
    },
    "id": "g0JjuHokww6j",
    "outputId": "8ab89bef-7acc-4511-c4b1-2cde733576cb"
   },
   "outputs": [
    {
     "data": {
      "text/plain": [
       "(624,)"
      ]
     },
     "execution_count": 21,
     "metadata": {
      "tags": []
     },
     "output_type": "execute_result"
    }
   ],
   "source": [
    "y_test.shape"
   ]
  },
  {
   "cell_type": "code",
   "execution_count": 0,
   "metadata": {
    "colab": {},
    "colab_type": "code",
    "collapsed": true,
    "id": "dEpevAet4T3Z"
   },
   "outputs": [],
   "source": [
    "from sklearn.utils import shuffle\n",
    "x_train, y_train = shuffle(x_train, y_train, random_state=0)\n",
    "x_test, y_test = shuffle(x_test, y_test, random_state=0)"
   ]
  },
  {
   "cell_type": "code",
   "execution_count": 23,
   "metadata": {
    "colab": {
     "base_uri": "https://localhost:8080/",
     "height": 34
    },
    "colab_type": "code",
    "executionInfo": {
     "elapsed": 884,
     "status": "ok",
     "timestamp": 1570702209504,
     "user": {
      "displayName": "SHREYANSH SINGH",
      "photoUrl": "https://lh3.googleusercontent.com/a-/AAuE7mBnbm24g7A_NVsEzEaLktAvhEbQJUpVaee9WZEV=s64",
      "userId": "13637235420111287831"
     },
     "user_tz": -330
    },
    "id": "hhIsaubK4vkE",
    "outputId": "6f12a7d8-db4f-493a-895c-fa8fa83f753c"
   },
   "outputs": [
    {
     "data": {
      "text/plain": [
       "(5223, 150, 125)"
      ]
     },
     "execution_count": 23,
     "metadata": {
      "tags": []
     },
     "output_type": "execute_result"
    }
   ],
   "source": [
    "x_train.shape"
   ]
  },
  {
   "cell_type": "code",
   "execution_count": 24,
   "metadata": {
    "colab": {
     "base_uri": "https://localhost:8080/",
     "height": 34
    },
    "colab_type": "code",
    "executionInfo": {
     "elapsed": 959,
     "status": "ok",
     "timestamp": 1570702211148,
     "user": {
      "displayName": "SHREYANSH SINGH",
      "photoUrl": "https://lh3.googleusercontent.com/a-/AAuE7mBnbm24g7A_NVsEzEaLktAvhEbQJUpVaee9WZEV=s64",
      "userId": "13637235420111287831"
     },
     "user_tz": -330
    },
    "id": "XF8uEWU24yUz",
    "outputId": "1319733f-6685-4fbd-a213-b420d1b5a100"
   },
   "outputs": [
    {
     "data": {
      "text/plain": [
       "(5223,)"
      ]
     },
     "execution_count": 24,
     "metadata": {
      "tags": []
     },
     "output_type": "execute_result"
    }
   ],
   "source": [
    "y_train.shape"
   ]
  },
  {
   "cell_type": "code",
   "execution_count": 25,
   "metadata": {
    "colab": {
     "base_uri": "https://localhost:8080/",
     "height": 69
    },
    "colab_type": "code",
    "executionInfo": {
     "elapsed": 886,
     "status": "ok",
     "timestamp": 1570702216423,
     "user": {
      "displayName": "SHREYANSH SINGH",
      "photoUrl": "https://lh3.googleusercontent.com/a-/AAuE7mBnbm24g7A_NVsEzEaLktAvhEbQJUpVaee9WZEV=s64",
      "userId": "13637235420111287831"
     },
     "user_tz": -330
    },
    "id": "dwYceXSYwyL3",
    "outputId": "83550e03-bbc6-4150-d06a-32e7a997d10b"
   },
   "outputs": [
    {
     "name": "stdout",
     "output_type": "stream",
     "text": [
      "x_train shape: (5223, 150, 125, 1)\n",
      "5223 train samples\n",
      "624 test samples\n"
     ]
    }
   ],
   "source": [
    "# input image dimensions\n",
    "img_rows, img_cols = 150, 125\n",
    "\n",
    "x_train = x_train.reshape(x_train.shape[0], img_rows, img_cols, 1)\n",
    "x_test = x_test.reshape(x_test.shape[0], img_rows, img_cols, 1)\n",
    "input_shape = (img_rows, img_cols, 1)\n",
    "\n",
    "x_train = x_train.astype('float32')\n",
    "x_test = x_test.astype('float32')\n",
    "x_train /= 255\n",
    "x_test /= 255\n",
    "print('x_train shape:', x_train.shape)\n",
    "print(x_train.shape[0], 'train samples')\n",
    "print(x_test.shape[0], 'test samples')"
   ]
  },
  {
   "cell_type": "code",
   "execution_count": 26,
   "metadata": {
    "colab": {
     "base_uri": "https://localhost:8080/",
     "height": 34
    },
    "colab_type": "code",
    "executionInfo": {
     "elapsed": 877,
     "status": "ok",
     "timestamp": 1570702220287,
     "user": {
      "displayName": "SHREYANSH SINGH",
      "photoUrl": "https://lh3.googleusercontent.com/a-/AAuE7mBnbm24g7A_NVsEzEaLktAvhEbQJUpVaee9WZEV=s64",
      "userId": "13637235420111287831"
     },
     "user_tz": -330
    },
    "id": "eNVpcizS4W-O",
    "outputId": "0230fcc3-96ef-4b1e-ea63-e3f5ce9fd802"
   },
   "outputs": [
    {
     "data": {
      "text/plain": [
       "(624,)"
      ]
     },
     "execution_count": 26,
     "metadata": {
      "tags": []
     },
     "output_type": "execute_result"
    }
   ],
   "source": [
    "y_test.shape"
   ]
  },
  {
   "cell_type": "code",
   "execution_count": 0,
   "metadata": {
    "colab": {},
    "colab_type": "code",
    "collapsed": true,
    "id": "n3ArjsxYxGs_"
   },
   "outputs": [],
   "source": [
    "num_classes = 2\n",
    "# convert class vectors to binary class matrices\n",
    "y_train = tf.keras.utils.to_categorical(y_train, num_classes)\n",
    "y_test = tf.keras.utils.to_categorical(y_test, num_classes)"
   ]
  },
  {
   "cell_type": "code",
   "execution_count": 28,
   "metadata": {
    "colab": {
     "base_uri": "https://localhost:8080/",
     "height": 139
    },
    "colab_type": "code",
    "executionInfo": {
     "elapsed": 2101,
     "status": "ok",
     "timestamp": 1570702225810,
     "user": {
      "displayName": "SHREYANSH SINGH",
      "photoUrl": "https://lh3.googleusercontent.com/a-/AAuE7mBnbm24g7A_NVsEzEaLktAvhEbQJUpVaee9WZEV=s64",
      "userId": "13637235420111287831"
     },
     "user_tz": -330
    },
    "id": "VCPOvyui3wU9",
    "outputId": "73184f6d-1ca3-44ce-cd60-59dab15de48e"
   },
   "outputs": [
    {
     "data": {
      "text/plain": [
       "array([[0., 1.],\n",
       "       [0., 1.],\n",
       "       [0., 1.],\n",
       "       ...,\n",
       "       [0., 1.],\n",
       "       [1., 0.],\n",
       "       [0., 1.]], dtype=float32)"
      ]
     },
     "execution_count": 28,
     "metadata": {
      "tags": []
     },
     "output_type": "execute_result"
    }
   ],
   "source": [
    "y_test"
   ]
  },
  {
   "cell_type": "code",
   "execution_count": 0,
   "metadata": {
    "colab": {},
    "colab_type": "code",
    "collapsed": true,
    "id": "bazlcX3hxZSq"
   },
   "outputs": [],
   "source": [
    "model = tf.keras.Sequential([\n",
    "          tf.keras.layers.Conv2D(16, 8,\n",
    "                                 strides=2,\n",
    "                                 padding='same',\n",
    "                                 activation='relu',\n",
    "                                 input_shape=(150, 125, 1)),\n",
    "          tf.keras.layers.AveragePooling2D(2, 1),\n",
    "          tf.keras.layers.Conv2D(32, 4,\n",
    "                                 strides=2,\n",
    "                                 padding='valid',\n",
    "                                 activation='relu'),\n",
    "          tf.keras.layers.AveragePooling2D(2, 1),\n",
    "          tf.keras.layers.Conv2D(64, 4,\n",
    "                                 strides=2,\n",
    "                                 padding='valid',\n",
    "                                 activation='relu'),\n",
    "          tf.keras.layers.AveragePooling2D(2, 1),\n",
    "          tf.keras.layers.Conv2D(256, 4,\n",
    "                                 strides=2,\n",
    "                                 padding='valid',\n",
    "                                 activation='relu'),\n",
    "          tf.keras.layers.AveragePooling2D(2, 1),\n",
    "          tf.keras.layers.Flatten(),\n",
    "          tf.keras.layers.Dense(32, activation='relu'),\n",
    "          tf.keras.layers.Dense(2, activation='softmax')\n",
    "  ])"
   ]
  },
  {
   "cell_type": "code",
   "execution_count": 29,
   "metadata": {
    "colab": {
     "base_uri": "https://localhost:8080/",
     "height": 89
    },
    "colab_type": "code",
    "executionInfo": {
     "elapsed": 963,
     "status": "ok",
     "timestamp": 1570702233184,
     "user": {
      "displayName": "SHREYANSH SINGH",
      "photoUrl": "https://lh3.googleusercontent.com/a-/AAuE7mBnbm24g7A_NVsEzEaLktAvhEbQJUpVaee9WZEV=s64",
      "userId": "13637235420111287831"
     },
     "user_tz": -330
    },
    "id": "24PYZRaiFhFf",
    "outputId": "dd461169-45c5-4e67-f90b-7953f900109e"
   },
   "outputs": [
    {
     "name": "stdout",
     "output_type": "stream",
     "text": [
      "WARNING:tensorflow:From /usr/local/lib/python3.6/dist-packages/tensorflow_core/python/ops/resource_variable_ops.py:1630: calling BaseResourceVariable.__init__ (from tensorflow.python.ops.resource_variable_ops) with constraint is deprecated and will be removed in a future version.\n",
      "Instructions for updating:\n",
      "If using Keras pass *_constraint arguments to layers.\n"
     ]
    }
   ],
   "source": [
    "model = tf.keras.Sequential([\n",
    "  tf.keras.layers.Conv2D(64, (3, 3), input_shape=(150, 125, 1), padding='same', activation='relu'),\n",
    "  tf.keras.layers.Conv2D(64, (3, 3), activation='relu', padding='same'),\n",
    "  tf.keras.layers.MaxPooling2D(pool_size=(2, 2), strides=(2, 2)),\n",
    "  tf.keras.layers.Conv2D(128, (3, 3), activation='relu', padding='same'),\n",
    "  tf.keras.layers.Conv2D(128, (3, 3), activation='relu', padding='same',),\n",
    "  tf.keras.layers.MaxPooling2D(pool_size=(2, 2), strides=(2, 2)),\n",
    "  tf.keras.layers.Conv2D(256, (3, 3), activation='relu', padding='same',),\n",
    "  tf.keras.layers.Conv2D(256, (3, 3), activation='relu', padding='same',),\n",
    "  tf.keras.layers.Conv2D(256, (3, 3), activation='relu', padding='same',),\n",
    "  tf.keras.layers.MaxPooling2D(pool_size=(2, 2), strides=(2, 2)),\n",
    "  tf.keras.layers.Conv2D(512, (3, 3), activation='relu', padding='same',),\n",
    "  tf.keras.layers.Conv2D(512, (3, 3), activation='relu', padding='same',),\n",
    "  tf.keras.layers.Conv2D(512, (3, 3), activation='relu', padding='same',),\n",
    "  tf.keras.layers.MaxPooling2D(pool_size=(2, 2), strides=(2, 2)),\n",
    "  tf.keras.layers.Conv2D(512, (3, 3), activation='relu', padding='same',),\n",
    "  tf.keras.layers.Conv2D(512, (3, 3), activation='relu', padding='same',),\n",
    "  tf.keras.layers.Conv2D(512, (3, 3), activation='relu', padding='same',),\n",
    "  tf.keras.layers.MaxPooling2D(pool_size=(2, 2), strides=(2, 2)),\n",
    "  tf.keras.layers.Flatten(),\n",
    "  tf.keras.layers.Dense(512, activation='relu'),\n",
    "  tf.keras.layers.Dense(32, activation='relu'),\n",
    "  tf.keras.layers.Dense(2, activation='softmax')\n",
    "])"
   ]
  },
  {
   "cell_type": "code",
   "execution_count": 0,
   "metadata": {
    "colab": {
     "base_uri": "https://localhost:8080/",
     "height": 69
    },
    "colab_type": "code",
    "executionInfo": {
     "elapsed": 2730365,
     "status": "ok",
     "timestamp": 1570536278410,
     "user": {
      "displayName": "SHREYANSH SINGH",
      "photoUrl": "https://lh3.googleusercontent.com/a-/AAuE7mBnbm24g7A_NVsEzEaLktAvhEbQJUpVaee9WZEV=s64",
      "userId": "13637235420111287831"
     },
     "user_tz": -330
    },
    "id": "zJZWyQnMxmEm",
    "outputId": "83a75fdd-655b-4884-e6ff-87990df15d44"
   },
   "outputs": [
    {
     "name": "stderr",
     "output_type": "stream",
     "text": [
      "Using TensorFlow backend.\n"
     ]
    },
    {
     "name": "stdout",
     "output_type": "stream",
     "text": [
      "Train on 5223 samples, validate on 624 samples\n",
      "Epoch 1/40\n"
     ]
    }
   ],
   "source": [
    "batch_size = 32\n",
    "epochs = 40\n",
    "\n",
    "from keras.callbacks import ModelCheckpoint\n",
    "mcp = ModelCheckpoint(filepath='/content/drive/My Drive/BTP/model_vgg16.h5',monitor=\"val_acc\", save_best_only=True, save_weights_only=False)\n",
    "\n",
    "model.compile(loss=tf.keras.losses.categorical_crossentropy,\n",
    "              optimizer=tf.keras.optimizers.Adam(learning_rate=0.0001),\n",
    "              metrics=['accuracy'])\n",
    "\n",
    "hist = model.fit(x_train, y_train,\n",
    "          batch_size=batch_size,\n",
    "          epochs=epochs,\n",
    "          verbose=1,\n",
    "          callbacks=[mcp],\n",
    "          validation_data=(x_test, y_test))\n",
    "score = model.evaluate(x_test, y_test, verbose=0)\n",
    "print('Test loss:', score[0])\n",
    "print('Test accuracy:', score[1])"
   ]
  },
  {
   "cell_type": "code",
   "execution_count": 0,
   "metadata": {
    "colab": {},
    "colab_type": "code",
    "collapsed": true,
    "id": "AIb81ppFxxDq"
   },
   "outputs": [],
   "source": [
    "model.save('/content/drive/My Drive/BTP/model_inc1.h5')"
   ]
  },
  {
   "cell_type": "code",
   "execution_count": 0,
   "metadata": {
    "colab": {},
    "colab_type": "code",
    "collapsed": true,
    "id": "axHUvDx8yBqp"
   },
   "outputs": [],
   "source": []
  }
 ],
 "metadata": {
  "accelerator": "GPU",
  "colab": {
   "collapsed_sections": [],
   "name": "model.ipynb",
   "provenance": []
  },
  "kernelspec": {
   "display_name": "Python 3",
   "language": "python",
   "name": "python3"
  },
  "language_info": {
   "codemirror_mode": {
    "name": "ipython",
    "version": 3
   },
   "file_extension": ".py",
   "mimetype": "text/x-python",
   "name": "python",
   "nbconvert_exporter": "python",
   "pygments_lexer": "ipython3",
   "version": "3.6.8"
  }
 },
 "nbformat": 4,
 "nbformat_minor": 1
}
