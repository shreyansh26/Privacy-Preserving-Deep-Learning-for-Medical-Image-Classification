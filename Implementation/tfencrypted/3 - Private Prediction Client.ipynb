{
 "cells": [
  {
   "cell_type": "markdown",
   "metadata": {},
   "source": [
    "# Private Predictions with TFE Keras"
   ]
  },
  {
   "cell_type": "markdown",
   "metadata": {},
   "source": [
    "# Step 3: Private Prediction using TFE Keras - Serving (Client)\n",
    "\n",
    "After training your model with normal Keras and securing it with TFE Keras, you are ready to request some private predictions."
   ]
  },
  {
   "cell_type": "code",
   "execution_count": null,
   "metadata": {},
   "outputs": [],
   "source": [
    "import numpy as np\n",
    "import tensorflow as tf\n",
    "import tf_encrypted as tfe\n",
    "\n",
    "from tensorflow.keras.datasets import mnist"
   ]
  },
  {
   "cell_type": "markdown",
   "metadata": {},
   "source": [
    "## Data\n",
    "\n",
    "Here, we preprocess our MNIST data. This is identical to how we preprocessed during training."
   ]
  },
  {
   "cell_type": "code",
   "execution_count": null,
   "metadata": {
    "collapsed": true
   },
   "outputs": [],
   "source": [
    "# input image dimensions\n",
    "img_rows, img_cols = 28, 28\n",
    "\n",
    "# the data, split between train and test sets\n",
    "(x_train, y_train), (x_test, y_test) = mnist.load_data()\n",
    "\n",
    "x_train = x_train.reshape(x_train.shape[0], img_rows, img_cols, 1)\n",
    "x_test = x_test.reshape(x_test.shape[0], img_rows, img_cols, 1)\n",
    "input_shape = (img_rows, img_cols, 1)\n",
    "\n",
    "x_train = x_train.astype('float32')\n",
    "x_test = x_test.astype('float32')\n",
    "x_train /= 255\n",
    "x_test /= 255"
   ]
  },
  {
   "cell_type": "markdown",
   "metadata": {},
   "source": [
    "## Set up `tfe.serving.QueueClient`\n",
    "\n",
    "\n",
    "Before querying the model, we just have to connect to it. To do so, we can create a client with `tfe.serving.QueueClient`. This creates a TFE queueing server on the client side that connects to the queueing server set up by `tfe.serving.QueueServer` in **Secure Model Serving**. The queue will be responsible for secretly sharing the plaintext data before submitting the shares in a prediction request.\n",
    "\n",
    "Note that we have to use the same configuration as used by the server, including player configuration and protocol."
   ]
  },
  {
   "cell_type": "code",
   "execution_count": null,
   "metadata": {
    "collapsed": true
   },
   "outputs": [],
   "source": [
    "config = tfe.RemoteConfig.load(\"/tmp/tfe.config\")\n",
    "\n",
    "tfe.set_config(config)\n",
    "tfe.set_protocol(tfe.protocol.SecureNN())"
   ]
  },
  {
   "cell_type": "code",
   "execution_count": null,
   "metadata": {
    "collapsed": true
   },
   "outputs": [],
   "source": [
    "input_shape = (1, 28, 28, 1)\n",
    "output_shape = (1, 10)"
   ]
  },
  {
   "cell_type": "code",
   "execution_count": null,
   "metadata": {},
   "outputs": [],
   "source": [
    "client = tfe.serving.QueueClient(\n",
    "    input_shape=input_shape,\n",
    "    output_shape=output_shape)"
   ]
  },
  {
   "cell_type": "code",
   "execution_count": null,
   "metadata": {},
   "outputs": [],
   "source": [
    "sess = tfe.Session(config=config)"
   ]
  },
  {
   "cell_type": "markdown",
   "metadata": {},
   "source": [
    "## Query Model\n",
    "\n",
    "You are ready to get some private predictions! Calling `client.run` will insert the image into the queue created above, secret share the data locally, and submit the shares to the model server in **Secure Model Serving**."
   ]
  },
  {
   "cell_type": "code",
   "execution_count": 9,
   "metadata": {
    "collapsed": true
   },
   "outputs": [],
   "source": [
    "# User inputs\n",
    "num_tests = 100\n",
    "images, expected_labels = x_test[100:num_tests+100], y_test[100:num_tests+100]"
   ]
  },
  {
   "cell_type": "code",
   "execution_count": 10,
   "metadata": {
    "scrolled": true
   },
   "outputs": [
    {
     "name": "stdout",
     "output_type": "stream",
     "text": [
      "The image had label 6 and was correctly classified as 6\n",
      "The image had label 0 and was correctly classified as 0\n",
      "The image had label 5 and was correctly classified as 5\n",
      "The image had label 4 and was correctly classified as 4\n",
      "The image had label 9 and was correctly classified as 9\n",
      "The image had label 9 and was correctly classified as 9\n",
      "The image had label 2 and was correctly classified as 2\n",
      "The image had label 1 and was correctly classified as 1\n",
      "The image had label 9 and was correctly classified as 9\n",
      "The image had label 4 and was correctly classified as 4\n",
      "The image had label 8 and was correctly classified as 8\n",
      "The image had label 7 and was correctly classified as 7\n",
      "The image had label 3 and was correctly classified as 3\n",
      "The image had label 9 and was correctly classified as 9\n",
      "The image had label 7 and was correctly classified as 7\n",
      "The image had label 4 and was correctly classified as 4\n",
      "The image had label 4 and was correctly classified as 4\n",
      "The image had label 4 and was correctly classified as 4\n",
      "The image had label 9 and was correctly classified as 9\n",
      "The image had label 2 and was correctly classified as 2\n",
      "The image had label 5 and was correctly classified as 5\n",
      "The image had label 4 and was correctly classified as 4\n",
      "The image had label 7 and was correctly classified as 7\n",
      "The image had label 6 and was correctly classified as 6\n",
      "The image had label 7 and was correctly classified as 7\n",
      "The image had label 9 and was correctly classified as 9\n",
      "The image had label 0 and was correctly classified as 0\n",
      "The image had label 5 and was correctly classified as 5\n",
      "The image had label 8 and was correctly classified as 8\n",
      "The image had label 5 and was correctly classified as 5\n",
      "The image had label 6 and was correctly classified as 6\n",
      "The image had label 6 and was correctly classified as 6\n",
      "The image had label 5 and was correctly classified as 5\n",
      "The image had label 7 and was correctly classified as 7\n",
      "The image had label 8 and was correctly classified as 8\n",
      "The image had label 1 and was correctly classified as 1\n",
      "The image had label 0 and was correctly classified as 0\n",
      "The image had label 1 and was correctly classified as 1\n",
      "The image had label 6 and was correctly classified as 6\n",
      "The image had label 4 and was correctly classified as 4\n",
      "The image had label 6 and was correctly classified as 6\n",
      "The image had label 7 and was correctly classified as 7\n",
      "The image had label 3 and was incorrectly classified as 2\n",
      "The image had label 1 and was correctly classified as 1\n",
      "The image had label 7 and was correctly classified as 7\n",
      "The image had label 1 and was correctly classified as 1\n",
      "The image had label 8 and was correctly classified as 8\n",
      "The image had label 2 and was correctly classified as 2\n",
      "The image had label 0 and was correctly classified as 0\n",
      "The image had label 2 and was incorrectly classified as 8\n",
      "The image had label 9 and was correctly classified as 9\n",
      "The image had label 9 and was correctly classified as 9\n",
      "The image had label 5 and was correctly classified as 5\n",
      "The image had label 5 and was correctly classified as 5\n",
      "The image had label 1 and was correctly classified as 1\n",
      "The image had label 5 and was correctly classified as 5\n",
      "The image had label 6 and was correctly classified as 6\n",
      "The image had label 0 and was correctly classified as 0\n",
      "The image had label 3 and was correctly classified as 3\n",
      "The image had label 4 and was correctly classified as 4\n",
      "The image had label 4 and was correctly classified as 4\n",
      "The image had label 6 and was correctly classified as 6\n",
      "The image had label 5 and was correctly classified as 5\n",
      "The image had label 4 and was correctly classified as 4\n",
      "The image had label 6 and was correctly classified as 6\n",
      "The image had label 5 and was correctly classified as 5\n",
      "The image had label 4 and was correctly classified as 4\n",
      "The image had label 5 and was correctly classified as 5\n",
      "The image had label 1 and was correctly classified as 1\n",
      "The image had label 4 and was correctly classified as 4\n",
      "The image had label 4 and was correctly classified as 4\n",
      "The image had label 7 and was correctly classified as 7\n",
      "The image had label 2 and was correctly classified as 2\n",
      "The image had label 3 and was correctly classified as 3\n",
      "The image had label 2 and was correctly classified as 2\n",
      "The image had label 7 and was correctly classified as 7\n",
      "The image had label 1 and was correctly classified as 1\n",
      "The image had label 8 and was correctly classified as 8\n",
      "The image had label 1 and was correctly classified as 1\n",
      "The image had label 8 and was correctly classified as 8\n",
      "The image had label 1 and was correctly classified as 1\n",
      "The image had label 8 and was correctly classified as 8\n",
      "The image had label 5 and was correctly classified as 5\n",
      "The image had label 0 and was correctly classified as 0\n",
      "The image had label 8 and was correctly classified as 8\n",
      "The image had label 9 and was correctly classified as 9\n",
      "The image had label 2 and was correctly classified as 2\n",
      "The image had label 5 and was correctly classified as 5\n",
      "The image had label 0 and was correctly classified as 0\n",
      "The image had label 1 and was correctly classified as 1\n",
      "The image had label 1 and was correctly classified as 1\n",
      "The image had label 1 and was correctly classified as 1\n",
      "The image had label 0 and was correctly classified as 0\n",
      "The image had label 9 and was incorrectly classified as 3\n",
      "The image had label 0 and was correctly classified as 0\n",
      "The image had label 3 and was correctly classified as 3\n",
      "The image had label 1 and was correctly classified as 1\n",
      "The image had label 6 and was correctly classified as 6\n",
      "The image had label 4 and was correctly classified as 4\n",
      "The image had label 2 and was correctly classified as 2\n"
     ]
    }
   ],
   "source": [
    "for image, expected_label in zip(images, expected_labels):\n",
    "    \n",
    "    res = client.run(\n",
    "        sess,\n",
    "        image.reshape(1, 28, 28, 1))\n",
    "    \n",
    "    predicted_label = np.argmax(res)\n",
    "    \n",
    "    print(\"The image had label {} and was {} classified as {}\".format(\n",
    "        expected_label,\n",
    "        \"correctly\" if expected_label == predicted_label else \"incorrectly\",\n",
    "        predicted_label))"
   ]
  },
  {
   "cell_type": "markdown",
   "metadata": {},
   "source": [
    "We are able to classify these three images correctly! But what's special about these predictions is that we haven't revealed any private information to get this service. The model host never saw your input data or your predictions, and you never downloaded the model. You were able to get private predictions on encrypted data with an encrypted model!"
   ]
  },
  {
   "cell_type": "code",
   "execution_count": null,
   "metadata": {
    "collapsed": true
   },
   "outputs": [],
   "source": []
  }
 ],
 "metadata": {
  "kernelspec": {
   "display_name": "Python 3",
   "language": "python",
   "name": "python3"
  },
  "language_info": {
   "codemirror_mode": {
    "name": "ipython",
    "version": 3
   },
   "file_extension": ".py",
   "mimetype": "text/x-python",
   "name": "python",
   "nbconvert_exporter": "python",
   "pygments_lexer": "ipython3",
   "version": "3.6.8"
  }
 },
 "nbformat": 4,
 "nbformat_minor": 2
}
